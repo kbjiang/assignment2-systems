{
 "cells": [
  {
   "cell_type": "code",
   "execution_count": 31,
   "id": "d8066b27",
   "metadata": {},
   "outputs": [],
   "source": [
    "import torch\n",
    "import cs336_basics\n",
    "from cs336_basics.model import BasicsTransformerLM\n",
    "from cs336_basics.data import get_batch\n",
    "from cs336_basics.optimizer import AdamW\n",
    "from cs336_basics.nn_utils import cross_entropy"
   ]
  },
  {
   "cell_type": "code",
   "execution_count": 29,
   "id": "803d58a6",
   "metadata": {},
   "outputs": [],
   "source": [
    "VOCAB_SIZE = 10_000\n",
    "ROPE_THETA = 10_000\n",
    "BATCH_SIZE = 4\n",
    "CONTEXT_LENGTH = 256\n",
    "D_MODEL = 768\n",
    "D_FF = 3072\n",
    "NUM_LAYERS = 12\n",
    "NUM_HEADS = 12\n",
    "\n",
    "WARMUP_STEPS = 5\n"
   ]
  },
  {
   "cell_type": "code",
   "execution_count": 21,
   "id": "84b81351",
   "metadata": {},
   "outputs": [],
   "source": [
    "model = BasicsTransformerLM(\n",
    "    vocab_size = VOCAB_SIZE,\n",
    "    context_length = CONTEXT_LENGTH,\n",
    "    d_model = D_MODEL,\n",
    "    num_layers = NUM_LAYERS,\n",
    "    num_heads = NUM_HEADS,\n",
    "    d_ff = D_FF,\n",
    "    rope_theta = ROPE_THETA,\n",
    ")\n",
    "model.to(\"cuda:0\");"
   ]
  },
  {
   "cell_type": "code",
   "execution_count": 24,
   "id": "54148685",
   "metadata": {},
   "outputs": [],
   "source": [
    "optimizer = AdamW(model.parameters())"
   ]
  },
  {
   "cell_type": "code",
   "execution_count": null,
   "id": "19195a9e",
   "metadata": {},
   "outputs": [],
   "source": [
    "import numpy as np\n",
    "np_file = \"../data/ts_valid.npy\"\n",
    "dataset = np.load(np_file)\n"
   ]
  },
  {
   "cell_type": "code",
   "execution_count": 35,
   "id": "c9d7bf55",
   "metadata": {},
   "outputs": [
    {
     "name": "stdout",
     "output_type": "stream",
     "text": [
      "Time for 10 training step: 1.573941 seconds\n"
     ]
    }
   ],
   "source": [
    "import timeit\n",
    "\n",
    "def train_step():\n",
    "    x, y = get_batch(\n",
    "        dataset, BATCH_SIZE, CONTEXT_LENGTH, \"cuda\" \n",
    "    )\n",
    "    optimizer.zero_grad()\n",
    "    y_hat = model(x)\n",
    "    loss = cross_entropy(y_hat, y)\n",
    "    loss.backward()\n",
    "    optimizer.step()\n",
    "    torch.cuda.synchronize()\n",
    "\n",
    "for _ in range(WARMUP_STEPS):\n",
    "    train_step()\n",
    "\n",
    "TRAIN_STEPS = 10\n",
    "elapsed = timeit.timeit(train_step, number=TRAIN_STEPS)\n",
    "print(f\"Time for {TRAIN_STEPS} training step: {elapsed:.6f} seconds\")"
   ]
  },
  {
   "cell_type": "code",
   "execution_count": 41,
   "id": "a80a7d02",
   "metadata": {},
   "outputs": [
    {
     "name": "stdout",
     "output_type": "stream",
     "text": [
      "Time for 10 training step: 1.569615 seconds\n"
     ]
    }
   ],
   "source": [
    "import timeit\n",
    "from functools import partial\n",
    "\n",
    "def train_step(do_backward=False):\n",
    "    x, y = get_batch(\n",
    "        dataset, BATCH_SIZE, CONTEXT_LENGTH, \"cuda\" \n",
    "    )\n",
    "    y_hat = model(x)\n",
    "    if do_backward:\n",
    "        optimizer.zero_grad()\n",
    "        loss = cross_entropy(y_hat, y)\n",
    "        loss.backward()\n",
    "        optimizer.step()\n",
    "    torch.cuda.synchronize()\n",
    "\n",
    "for _ in range(WARMUP_STEPS):\n",
    "    train_step()\n",
    "\n",
    "TRAIN_STEPS = 10\n",
    "train_step_ = partial(train_step, do_backward=True)\n",
    "elapsed = timeit.timeit(train_step_, number=TRAIN_STEPS)\n",
    "print(f\"Time for {TRAIN_STEPS} training step: {elapsed:.6f} seconds\")"
   ]
  },
  {
   "cell_type": "code",
   "execution_count": null,
   "id": "acdea39f",
   "metadata": {},
   "outputs": [],
   "source": []
  }
 ],
 "metadata": {
  "kernelspec": {
   "display_name": "cs336-systems",
   "language": "python",
   "name": "python3"
  },
  "language_info": {
   "codemirror_mode": {
    "name": "ipython",
    "version": 3
   },
   "file_extension": ".py",
   "mimetype": "text/x-python",
   "name": "python",
   "nbconvert_exporter": "python",
   "pygments_lexer": "ipython3",
   "version": "3.11.13"
  }
 },
 "nbformat": 4,
 "nbformat_minor": 5
}
