{
 "cells": [
  {
   "cell_type": "code",
   "execution_count": 1,
   "id": "d8066b27",
   "metadata": {},
   "outputs": [],
   "source": [
    "import torch\n",
    "import cs336_basics\n",
    "from cs336_basics.model import BasicsTransformerLM\n",
    "from cs336_basics.data import get_batch\n",
    "from cs336_basics.optimizer import AdamW\n",
    "from cs336_basics.nn_utils import cross_entropy"
   ]
  },
  {
   "cell_type": "code",
   "execution_count": null,
   "id": "803d58a6",
   "metadata": {},
   "outputs": [],
   "source": [
    "VOCAB_SIZE = 10_000\n",
    "ROPE_THETA = 10_000\n",
    "BATCH_SIZE = 4\n",
    "CONTEXT_LENGTH = 256\n",
    "D_MODEL = 768\n",
    "D_FF = 3072\n",
    "NUM_LAYERS = 12\n",
    "NUM_HEADS = 12\n",
    "\n",
    "WARMUP_STEPS = 5\n"
   ]
  },
  {
   "cell_type": "code",
   "execution_count": null,
   "id": "4360b3a6",
   "metadata": {},
   "outputs": [],
   "source": [
    "\n",
    "model = BasicsTransformerLM(\n",
    "    vocab_size = VOCAB_SIZE,\n",
    "    context_length = CONTEXT_LENGTH,\n",
    "    d_model = D_MODEL,\n",
    "    num_layers = NUM_LAYERS,\n",
    "    num_heads = NUM_HEADS,\n",
    "    d_ff = D_FF,\n",
    "    rope_theta = ROPE_THETA,\n",
    ")\n",
    "model.to(\"cuda:0\");"
   ]
  },
  {
   "cell_type": "code",
   "execution_count": 10,
   "id": "19195a9e",
   "metadata": {},
   "outputs": [],
   "source": [
    "import numpy as np\n",
    "# np_file = \"../data/ts_valid.npy\"\n",
    "# dataset = np.load(np_file)\n",
    "dataset = np.random.randint(0, VOCAB_SIZE, 1024)\n"
   ]
  },
  {
   "cell_type": "code",
   "execution_count": 12,
   "id": "a80a7d02",
   "metadata": {},
   "outputs": [],
   "source": [
    "import timeit\n",
    "from functools import partial\n",
    "\n",
    "def train_step(do_backward=False):\n",
    "    x, y = get_batch(\n",
    "        dataset, BATCH_SIZE, CONTEXT_LENGTH, \"cuda\" \n",
    "    )\n",
    "    y_hat = model(x)\n",
    "    if do_backward:\n",
    "        optimizer.zero_grad()\n",
    "        loss = cross_entropy(y_hat, y)\n",
    "        loss.backward()\n",
    "        optimizer.step()\n",
    "    torch.cuda.synchronize()\n",
    "\n",
    "def run_test(warmup_steps, train_steps, do_backward):\n",
    "    for _ in range(warmup_steps):\n",
    "        train_step()\n",
    "\n",
    "    train_step_ = partial(train_step, do_backward=do_backward)\n",
    "    elapsed = timeit.timeit(train_step_, number=train_steps)\n",
    "    print(f\"Time for {train_steps} training step: {elapsed:.6f} seconds\")"
   ]
  },
  {
   "cell_type": "code",
   "execution_count": 14,
   "id": "2f177bd1",
   "metadata": {},
   "outputs": [
    {
     "name": "stdout",
     "output_type": "stream",
     "text": [
      "Time for 10 training step: 1.697123 seconds\n"
     ]
    }
   ],
   "source": [
    "run_test(5, 10, True)"
   ]
  },
  {
   "cell_type": "code",
   "execution_count": null,
   "id": "acdea39f",
   "metadata": {},
   "outputs": [],
   "source": []
  },
  {
   "cell_type": "code",
   "execution_count": 76,
   "id": "e2d31221",
   "metadata": {},
   "outputs": [
    {
     "name": "stdout",
     "output_type": "stream",
     "text": [
      "torch.float16\n"
     ]
    }
   ],
   "source": [
    "import torch\n",
    "from torch import nn\n",
    "\n",
    "class ToyModel(nn.Module):\n",
    "    def __init__(self, in_features, out_features):\n",
    "        super().__init__()\n",
    "        self.fc1 = nn.Linear(in_features, 10, bias=False)\n",
    "        self.ln = nn.LayerNorm(10)\n",
    "        self.fc2 = nn.Linear(10, out_features, bias=False)\n",
    "        self.relu = nn.ReLU()\n",
    "\n",
    "    def forward(self, x):\n",
    "        x = self.relu(self.fc1(x))\n",
    "        x = self.ln(x)\n",
    "        x = self.fc2(x)\n",
    "        return x\n",
    "\n",
    "INPUT_SIZE = 3\n",
    "OUTPUT_SIZE = 4\n",
    "BATCH_SIZE = 4\n",
    "model = ToyModel(INPUT_SIZE, OUTPUT_SIZE).cuda()\n",
    "\n",
    "optimizer = torch.optim.SGD(model.parameters(), lr=0.01)\n",
    "\n",
    "loss_fn = nn.MSELoss()\n",
    "\n",
    "x = torch.randn(BATCH_SIZE, INPUT_SIZE).cuda()\n",
    "y = torch.randn(BATCH_SIZE, OUTPUT_SIZE).cuda()\n",
    "\n",
    "\n",
    "DTYPE = torch.float16\n",
    "with torch.autocast(device_type=\"cuda\", dtype=DTYPE):\n",
    "    x_after_fc1 = model.fc1(x)\n",
    "    print(x_after_fc1.dtype)\n",
    "    # loss = loss_fn(y, y_pred)\n",
    "\n",
    "    # for name, param in model.named_parameters():\n",
    "    #     print(name, param.dtype)\n",
    "# optimizer.zero_grad()\n",
    "# loss.backward()\n",
    "# optimizer.step()\n"
   ]
  },
  {
   "cell_type": "code",
   "execution_count": 70,
   "id": "a290c858",
   "metadata": {},
   "outputs": [
    {
     "name": "stdout",
     "output_type": "stream",
     "text": [
      "fc1.weight torch.float32 torch.float32\n",
      "ln.weight torch.float32 torch.float32\n",
      "ln.bias torch.float32 torch.float32\n",
      "fc2.weight torch.float32 torch.float32\n"
     ]
    }
   ],
   "source": [
    "for name, param in model.named_parameters():\n",
    "    print(name, param.dtype, param.grad.dtype)"
   ]
  },
  {
   "cell_type": "code",
   "execution_count": null,
   "id": "3068f099",
   "metadata": {},
   "outputs": [
    {
     "name": "stdout",
     "output_type": "stream",
     "text": [
      "fc1.weight torch.float32 torch.float32\n",
      "ln.weight torch.float32 torch.float32\n",
      "ln.bias torch.float32 torch.float32\n",
      "fc2.weight torch.float32 torch.float32\n"
     ]
    }
   ],
   "source": [
    "for name, param in model.named_parameters():\n",
    "    print(name, param.dtype, param.grad.dtype)"
   ]
  },
  {
   "cell_type": "code",
   "execution_count": null,
   "id": "28a2faae",
   "metadata": {},
   "outputs": [],
   "source": []
  }
 ],
 "metadata": {
  "kernelspec": {
   "display_name": "cs336",
   "language": "python",
   "name": ".venv"
  },
  "language_info": {
   "codemirror_mode": {
    "name": "ipython",
    "version": 3
   },
   "file_extension": ".py",
   "mimetype": "text/x-python",
   "name": "python",
   "nbconvert_exporter": "python",
   "pygments_lexer": "ipython3",
   "version": "3.11.13"
  }
 },
 "nbformat": 4,
 "nbformat_minor": 5
}
